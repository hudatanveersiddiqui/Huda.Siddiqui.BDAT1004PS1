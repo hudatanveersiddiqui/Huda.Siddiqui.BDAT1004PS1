{
 "cells": [
  {
   "cell_type": "markdown",
   "id": "b561ad77",
   "metadata": {},
   "source": [
    "# Question 1\n",
    "What data type is each of the following?"
   ]
  },
  {
   "cell_type": "markdown",
   "id": "4d9c2136",
   "metadata": {},
   "source": [
    "5\t\t\t         //value data type Integer represented as int in C#"
   ]
  },
  {
   "cell_type": "markdown",
   "id": "60c31c02",
   "metadata": {},
   "source": [
    "5.0\t\t\t         // value data type Floating point number float"
   ]
  },
  {
   "cell_type": "markdown",
   "id": "8a51182b",
   "metadata": {},
   "source": [
    "5 > 1\t\t\t     // relational operator used between two value type integers"
   ]
  },
  {
   "cell_type": "markdown",
   "id": "bf65535d",
   "metadata": {},
   "source": [
    "'5'\t\t\t         //this is character data type represented by char in C#"
   ]
  },
  {
   "cell_type": "markdown",
   "id": "7e670274",
   "metadata": {},
   "source": [
    "5 * 2\t\t\t    //arithmetic operators used between two int"
   ]
  },
  {
   "cell_type": "markdown",
   "id": "5ea11d85",
   "metadata": {},
   "source": [
    "'5' * 2             //arithmetic operators used between char & int. Which may result in displaying 55"
   ]
  },
  {
   "cell_type": "markdown",
   "id": "d8c4fc23",
   "metadata": {},
   "source": [
    "'5' + '2'\t\t\t//arithmetic operators used between two char"
   ]
  },
  {
   "cell_type": "markdown",
   "id": "416a14b7",
   "metadata": {},
   "source": [
    "5 / 2\t\t\t    //division arithmetic operator used between two data type integers"
   ]
  },
  {
   "cell_type": "markdown",
   "id": "5ccd3047",
   "metadata": {},
   "source": [
    "5%2\t\t\t        //arithmetic remainder operator between two data type integers"
   ]
  },
  {
   "cell_type": "markdown",
   "id": "fac0fa2b",
   "metadata": {},
   "source": [
    "{5, 2, 1}\t\t\t//array with set of integers data type"
   ]
  },
  {
   "cell_type": "markdown",
   "id": "adbc1138",
   "metadata": {},
   "source": [
    "5 == 3\t\t\t    //rational operation used between two data type integers"
   ]
  },
  {
   "cell_type": "markdown",
   "id": "b1b558d5",
   "metadata": {},
   "source": [
    "Pi (the number)"
   ]
  },
  {
   "cell_type": "markdown",
   "id": "84648dc0",
   "metadata": {},
   "source": [
    "# Question 2\n",
    "Write (and evaluate) C# expressions that answer these questions:"
   ]
  },
  {
   "cell_type": "markdown",
   "id": "be29d923",
   "metadata": {},
   "source": [
    "# 2a\n",
    "How many letters are there in 'Supercalifragilisticexpialidocious'? "
   ]
  },
  {
   "cell_type": "code",
   "execution_count": null,
   "id": "fe60605c",
   "metadata": {},
   "outputs": [],
   "source": [
    "using System;\n",
    "\n",
    "\n",
    "class Program\n",
    "{\n",
    "    static void Main(string[] args)\n",
    "    {\n",
    "        string myString = \"Supercalifragilisticexpialidocious\";\n",
    "        int nameLength = myString.Length;\n",
    "        Console.WriteLine(\"Text 'Supercalifragilisticexpialidocious' contain \" + nameLength + \" letters\");\n",
    "    }\n",
    "}"
   ]
  },
  {
   "cell_type": "markdown",
   "id": "98bf97e7",
   "metadata": {},
   "source": [
    "# 2b\n",
    "Does 'Supercalifragilisticexpialidocious' contain 'ice' as a substring? "
   ]
  },
  {
   "cell_type": "code",
   "execution_count": 3,
   "id": "65c73e94",
   "metadata": {},
   "outputs": [],
   "source": [
    "using System;\n",
    "\n",
    "class SubstringInString\n",
    "{\n",
    "    public static void Main()\n",
    "    {\n",
    "        string sub1 = \"Supercalifragilisticexpialidocious\"; //Main String\n",
    "        string sub2 = \"ice\"; //Substring to find\n",
    "\n",
    "        bool b = sub1.Contains(sub2); //testing whether sub2 is part of sub1\n",
    "\n",
    "        Console.WriteLine(\"'{1}' contains '{0}' as a substring\", //message to display upon testing above condition\n",
    "                          sub2, sub1, b);\n",
    "\n",
    "    }\n",
    "}"
   ]
  },
  {
   "cell_type": "markdown",
   "id": "c8ce8dc0",
   "metadata": {},
   "source": [
    "# 2c\n",
    "Which of the following words is the longest:\n",
    "Supercalifragilisticexpialidocious, Honorificabilitudinitatibus, or Bababadalgharaghtakamminarronnkonn?"
   ]
  },
  {
   "cell_type": "code",
   "execution_count": 4,
   "id": "937c783d",
   "metadata": {},
   "outputs": [],
   "source": [
    "using System;\n",
    "public class LongestWord               //named LongestWord\n",
    "{\n",
    "    public static void Main()\n",
    "    {   //specifying string of all words to measure longest word\n",
    "        string line = \"Supercalifragilisticexpialidocious Honorificabilitudinitatibus Bababadalgharaghtakamminarronnkonn\";\n",
    "\n",
    "        //spliting the stringline words by delimitters\n",
    "        string[] words = line.Split(new[] { \" \" }, StringSplitOptions.None);\n",
    "        string word = \"\";\n",
    "        int tr = 0;\n",
    "\n",
    "        //condition of test the lenth of the words in string\n",
    "        foreach (String s in words)\n",
    "        {\n",
    "            if (s.Length > tr)\n",
    "            {\n",
    "                word = s;\n",
    "                tr = s.Length;\n",
    "            }\n",
    "        }\n",
    "        //for above set condition to the longest word to be displayed with text below\n",
    "        Console.WriteLine(\"The Longest word is \" + word);\n",
    "\n",
    "    }\n",
    "}\n",
    "\n",
    "//https://www.w3resource.com/csharp-exercises/basic/csharp-basic-exercise-24.php"
   ]
  },
  {
   "cell_type": "markdown",
   "id": "87d5630a",
   "metadata": {},
   "source": [
    "# 2d\n",
    "Which composer comes first in the dictionary: 'Berlioz', 'Borodin', 'Brian', 'Bartok', 'Bellini', Buxtehude', 'Bernstein'. Which one comes last?"
   ]
  },
  {
   "cell_type": "code",
   "execution_count": 5,
   "id": "28abfdb5",
   "metadata": {},
   "outputs": [],
   "source": [
    "using System;\n",
    "\n",
    "class Ascending  //class to arrange all words in an array in alphabetical order or as per dictionary.\n",
    "{\n",
    "\n",
    "    public static void Main()\n",
    "    {\n",
    "        //defining all elements of array to arrange in text ascending order\n",
    "        string[] arr = new string[] { \"Berlioz\", \"Borodin\", \"Brian\", \"Bartok\", \"Bellini\", \"Buxtehude\", \"Bernstein\" };\n",
    "        //\n",
    "        Array.Sort(arr);\n",
    "\n",
    "        foreach (string value in arr)\n",
    "        {\n",
    "            Console.Write(value + \", \");\n",
    "        }\n",
    "    }\n",
    "}\n",
    "\n"
   ]
  },
  {
   "cell_type": "markdown",
   "id": "c8d29519",
   "metadata": {},
   "source": [
    "# Question 3\n",
    "Implement function triangleArea(a,b,c) that takes as input the lengths of the 3 sides of a triangle and returns the area of the triangle. By Heron's formula, the area of a triangle with side lengths"
   ]
  },
  {
   "cell_type": "code",
   "execution_count": 6,
   "id": "379c873c",
   "metadata": {},
   "outputs": [],
   "source": [
    "using System;\n",
    "\n",
    "namespace AreaofTriangle\n",
    "{\n",
    "    public class Program\n",
    "    {\n",
    "        public static void Main(string[] args)\n",
    "        {\n",
    "            double s, Area;\n",
    "            double a, b, c;\n",
    "\n",
    "            Console.WriteLine(\"Enter 'a'\");\n",
    "            a = double.Parse(Console.ReadLine());\n",
    "            Console.WriteLine(\"Enter 'b'\");\n",
    "            b = double.Parse(Console.ReadLine());\n",
    "            Console.WriteLine(\"Enter 'c'\");\n",
    "            c = double.Parse(Console.ReadLine());\n",
    "\n",
    "            s = (a + b + c) / 2;\n",
    "            Area = Math.Sqrt(s * (s - a) * (s - b) * (s - c));\n",
    "\n",
    "            Console.WriteLine(\"Area = {0}\", Area);\n",
    "        }\n",
    "    }\n",
    "}\n",
    "\n",
    "//https://stackoverflow.com/questions/47255485/c-sharp-heron-triangles"
   ]
  },
  {
   "cell_type": "markdown",
   "id": "6d18972b",
   "metadata": {},
   "source": [
    "   # Question 4\n",
    "Write a program in C# Sharp to separate odd and even integers in separate arrays.\n",
    "Go to the editor\n",
    "Test Data :\n",
    "Input the number of elements to be stored in the array :5\n",
    "Input 5 elements in the array :\n",
    "element - 0 : 25\n",
    "element - 1 : 47\n",
    "element - 2 : 42\n",
    "element - 3 : 56\n",
    "element - 4 : 32\n",
    "Expected Output:\n",
    "The Even elements are:\n",
    "42 56 32\n",
    "The Odd elements are :\n",
    "25 47"
   ]
  },
  {
   "cell_type": "code",
   "execution_count": 7,
   "id": "c53686ad",
   "metadata": {},
   "outputs": [],
   "source": [
    "using System;\n",
    "public class Question4\n",
    "{\n",
    "    public static void Main()\n",
    "    {   //number larger than 1000000000 may not work\n",
    "        long[] array1 = new long[1000000000];\n",
    "        long[] array2 = new long[1000000000];\n",
    "        long[] array3 = new long[1000000000];\n",
    "        int i, j = 0, k = 0, n;\n",
    "        \n",
    "        //Displayline on initial screen        \n",
    "        Console.Write(\"\\n\\nThis Program will separate odd and even integers in two arrays:\\n\");\n",
    "        \n",
    "        //Line Break\n",
    "        Console.Write(\"-\\n\");\n",
    "        \n",
    "        //Display line for screen asking for number of elements\n",
    "        Console.Write(\"Specify total number to be displayed in both arrays :\");\n",
    "        \n",
    "        //n to define total number of element in array which will be converted to integer\n",
    "        n = Convert.ToInt32(Console.ReadLine());\n",
    "\n",
    "        //'i' to display the element which are to be less than 5. i.e. starting from 0 to 4.\n",
    "        Console.Write(\"You have defined {0} storage elements. Please define the {0} elements :\\n\", n);\n",
    "        for (i = 0; i < n; i++)\n",
    "        {\n",
    "            //Displayline to show the value of i\n",
    "            Console.Write(\"element - {0} : \", i);\n",
    "            \n",
    "            //since choose large integers each element of array to be converted to Int64\n",
    "            array1[i] = Convert.ToInt64(Console.ReadLine());\n",
    "        }\n",
    "\n",
    "        for (i = 0; i < n; i++)\n",
    "        {\n",
    "            //condition for multiple of 2 for array 1 of \n",
    "            if (array1[i] % 2 == 0)\n",
    "            {\n",
    "                array2[j] = array1[i];\n",
    "                j++;\n",
    "            }\n",
    "            \n",
    "            //otherwise \n",
    "            else\n",
    "            {\n",
    "                array3[k] = array1[i];\n",
    "                k++;\n",
    "            }\n",
    "        }\n",
    "\n",
    "                Console.Write(\"\\nThe Even elements are : \\n\");\n",
    "        for (i = 0; i < j; i++)\n",
    "        {\n",
    "            Console.Write(\"{0} \", array2[i]);\n",
    "        }\n",
    "\n",
    "        Console.Write(\"\\nThe Odd elements are :\\n\");\n",
    "        for (i = 0; i < k; i++)\n",
    "        {\n",
    "            Console.Write(\"{0} \", array3[i]);\n",
    "        }\n",
    "        Console.Write(\"\\n\\n\");\n",
    "    }\n",
    "}\n",
    "\n",
    "//https://www.w3resource.com/csharp-exercises/array/csharp-array-exercise-10.php"
   ]
  },
  {
   "cell_type": "markdown",
   "id": "da613c9c",
   "metadata": {},
   "source": [
    "# Question 5"
   ]
  },
  {
   "cell_type": "markdown",
   "id": "1dbbbb17",
   "metadata": {},
   "source": [
    "a. Write a function inside(x,y,x1,y1,x2,y2) that returns True or False depending on whether the point (x,y) lies in the rectangle with lower left corner (x1,y1) and upper right corner (x2,y2).\n",
    "\n",
    "inside(1,1,0,0,2,3)\n",
    "True\n",
    "inside(-1,-1,0,0,2,3)\n",
    "False"
   ]
  },
  {
   "cell_type": "code",
   "execution_count": null,
   "id": "9027646c",
   "metadata": {},
   "outputs": [],
   "source": [
    "using System;\n",
    "public class Question5\n",
    "{\n",
    "    static void Main(string[] args)\n",
    "    {\n",
    "        float x, y, x1, y1, x2, y2;\n",
    "        Console.WriteLine(\"Enter all vertices of the rectangle>>>\");\n",
    "        x1 = Convert.ToSingle(Console.ReadLine());\n",
    "        y1 = Convert.ToSingle(Console.ReadLine());\n",
    "        x2 = Convert.ToSingle(Console.ReadLine());\n",
    "        y2 = Convert.ToSingle(Console.ReadLine());\n",
    "\n",
    "        Console.WriteLine(\"Enter vertices to search >>>\");\n",
    "        x = Convert.ToSingle(Console.ReadLine());\n",
    "        y = Convert.ToSingle(Console.ReadLine());\n",
    "\n",
    "\n",
    "        bool TEST = vertices(x, y, x1, y1, x2, y2);\n",
    "        Console.WriteLine(\"{0}\\n\", TEST);\n",
    "\n",
    "    }\n",
    "    public static bool vertices(float x, float y, float x1, float y1, float x2, float y2)\n",
    "    {\n",
    "        if ((x > x1) && (x < x2) && (y > y1) && (y < y2))\n",
    "        {\n",
    "            return true;\n",
    "        }\n",
    "        return false;\n",
    "    }\n",
    "}"
   ]
  }
 ],
 "metadata": {
  "kernelspec": {
   "display_name": ".NET (C#)",
   "language": "C#",
   "name": ".net-csharp"
  },
  "language_info": {
   "file_extension": ".cs",
   "mimetype": "text/x-csharp",
   "name": "C#",
   "pygments_lexer": "csharp",
   "version": "8.0"
  }
 },
 "nbformat": 4,
 "nbformat_minor": 5
}
