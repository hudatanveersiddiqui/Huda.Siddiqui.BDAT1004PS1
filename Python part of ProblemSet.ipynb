{
 "cells": [
  {
   "cell_type": "markdown",
   "id": "e8d006a0",
   "metadata": {},
   "source": [
    "# Question 6\n",
    "You can turn a word into pig-Latin using the following two rules (simplified):\n",
    "\n",
    "• If the word starts with a consonant, move that letter to the end and append 'ay'. For example, 'happy' becomes 'appyhay' and 'pencil' becomes 'encilpay'.\n",
    "\n",
    "• If the word starts with a vowel, simply append 'way' to the end of the word. For example, 'enter' becomes 'enterway' and 'other' becomes 'otherway' . For our purposes, there are 5 vowels: a, e, i, o, u (so we count y as a consonant).\n",
    "\n",
    "Write a function pig() that takes a word (i.e., a string) as input and returns its pig-Latin form. Your function should still work if the input word contains upper case characters. Your output should always be lower case however."
   ]
  },
  {
   "cell_type": "code",
   "execution_count": null,
   "id": "1f151ad8",
   "metadata": {},
   "outputs": [],
   "source": [
    "pigLatin = input(\">>> pig latin: \") #case where vowel is first\n",
    "wordList = pigLatin.lower().split(\" \") #as per specified conditions, any uppercase to be accepted and converted to lower case for display\n",
    "vowels = ['a', 'e', 'i', 'o', 'u'] #defining array for vowels\n",
    "pigLatin = []\n",
    "eachWord = []\n",
    "for word in wordList:\n",
    "    if word[0] in 'aeiou': #case where first letter is vowel\n",
    "        pigLatin.append(word + 'way') #append 'way' at the end of the word i.e. word+way\n",
    "    else:\n",
    "        for letter in word: #for any other letter in strin \"word\"\n",
    "            if letter in 'aeiou': #that does not contain vowels\n",
    "                pigLatin.append(word[word.index(letter):] + word[:word.index(letter)] +'ay')\n",
    "                break\n",
    "\n",
    "\n",
    "print(\" \".join(pigLatin))\n",
    "\n",
    "#https://stackoverflow.com/questions/54079026/pig-latin-program-in-python"
   ]
  },
  {
   "cell_type": "markdown",
   "id": "aca428b5",
   "metadata": {},
   "source": [
    "# Question 7\n",
    "File bloodtype1.txt records blood-types of patients (A, B, AB, O or OO) at a clinic. Write a function bldcount() that reads the file with name name and reports (i.e., prints) how many patients there are in each bloodtype."
   ]
  },
  {
   "cell_type": "code",
   "execution_count": null,
   "id": "373f1639",
   "metadata": {},
   "outputs": [],
   "source": [
    "filename = open(\"/Users/owais/Downloads/ProblemSet1/Files/bloodtype1.txt\",\"r\")\n",
    "\n",
    "bloodgrps = filename.read().split(\" \")\n",
    "\n",
    "e = 0\n",
    "f = 0\n",
    "g = 0\n",
    "h = 0\n",
    "i = 0\n",
    "\n",
    "#computing blood group in text file\n",
    "for x in bloodgrps:\n",
    "    if x == \"AB\":\n",
    "        e= e + 1\n",
    "    elif x == \"A\":\n",
    "        f+=1\n",
    "    elif x == \"B\":\n",
    "        g+=1  \n",
    "    elif x == \"O\":\n",
    "        h+=1\n",
    "    elif x == \"OO\":\n",
    "        i+=1 \n",
    "    elif x == \"\\n\":\n",
    "        break\n",
    "\n",
    "#displaying number of people of specific blood group\n",
    "print(\"There are\" , e , \"people with blood group AB \")\n",
    "print(\"There are\" , f , \"people with blood group A\")\n",
    "print(\"There are\" , g , \"people with blood group B\")\n",
    "print(\"There are\" , h , \"people with blood group O\")\n",
    "print(\"There are\" , i , \"people with blood group OO\")"
   ]
  },
  {
   "cell_type": "markdown",
   "id": "c64e97ce",
   "metadata": {},
   "source": [
    "# Question 8\n",
    "Write a function curconv() that takes as input:\n",
    "1. a currency represented using a string (e.g., 'JPY' for the Japanese Yen or 'EUR' for the Euro)\n",
    "2. an amount\n",
    "and then converts and returns the amount in US dollars."
   ]
  },
  {
   "cell_type": "code",
   "execution_count": null,
   "id": "bb13e986",
   "metadata": {},
   "outputs": [],
   "source": [
    "n = input(\"Enter the currency: \") #to be in uppercase only\n",
    "y = int(input(\"Enter value to convert: \")) #inserted value to be converted to integer\n",
    "lookup = n\n",
    "\n",
    "with open(\"/Users/owais/Downloads/ProblemSet1/Files/currencies.txt\") as myFile:\n",
    "    for num, line in enumerate(myFile, 1):\n",
    "        if lookup in line:\n",
    "            print(\"1 \"+lookup+\" =\"+line[3:14]+\" USD\")\n",
    "            lineList = myFile.readline()\n",
    "            data = line.replace('\\n', ' ')\n",
    "            t = float(data[3:14])\n",
    "            \n",
    "            print(y,\" \", lookup,\" =\", ((y)*(t)), \"USD\")"
   ]
  },
  {
   "cell_type": "markdown",
   "id": "1260c29c",
   "metadata": {},
   "source": [
    "# Question 9\n",
    "Each of the following will cause an exception (an error). Identify what type of exception each will cause."
   ]
  },
  {
   "cell_type": "code",
   "execution_count": null,
   "id": "e35947da",
   "metadata": {},
   "outputs": [],
   "source": [
    "Trying to add incompatible variables, as in adding 6 + ‘a’     - Type error\n",
    "\n",
    "Referring to the 12th item of a list that has only 10 items      - IndexError \n",
    "\n",
    "Using a value that is out of range for a function’s input, such as calling math.sqrt(-1.0)     -  ValueError\n",
    "\n",
    "Using an undeclared variable, such as print(x) when x has not been defined      - NameError\n",
    "\n",
    "Trying to open a file that does not exist, such as mistyping the file name or looking in the wrong directory.      - FileNotFoundError"
   ]
  },
  {
   "cell_type": "markdown",
   "id": "7b5ab4e5",
   "metadata": {},
   "source": [
    "# Question 10\n",
    "Encryption is the process of hiding the meaning of a text by substituting letters in the message with other letters, according to some system. If the process is successful, no one but the intended recipient can understand the encrypted message. \n",
    "\n",
    "Cryptanalysis refers to attempts to undo the encryption, even if some details of the encryption are unknown (for example, if an encrypted message has been intercepted). The first step of cryptanalysis is often to build up a table of letter frequencies in the encrypted text. Assume that the string letters is already defined as 'abcdefghijklmnopqrstuvwxyz'. Write a function called frequencies() that takes a string as its only parameter, and returns a list of integers, showing the number of times each character appears in the text. Your function may ignore any characters that are not in letters.\n",
    ">>> frequencies('The quick red fox got bored and went home.')\n",
    "[1, 1, 1, 3, 5, 1, 1, 2, 1, 0, 1, 0, 1, 2, 4, 0, 1, 2, 0, 2, 1, 0, 1, 1, 0, 0]\n",
    ">>> frequencies('apple')"
   ]
  },
  {
   "cell_type": "code",
   "execution_count": null,
   "id": "b719a146",
   "metadata": {},
   "outputs": [],
   "source": [
    "def frequencies(str_test):\n",
    "    letters = \"abcdefghijklmnopqrstuvwxyz\" \n",
    "    freq_arr = [0,0,0,0,0,0,0,0,0,0,0,0,0,0,0,0,0,0,0,0,0,0,0,0,0,0]\n",
    "    str_test = str_test.lower()\n",
    "    \n",
    "    for i in range(len(str_test)):\n",
    "        for j in range(len(letters)):\n",
    "            if(str_test[i] == letters[j]):\n",
    "                freq_arr[j] = freq_arr[j] + 1\n",
    "            j = j + 1\n",
    "        i = i + 1\n",
    "    print(freq_arr)\n",
    "                \n",
    "frequencies(\"The quick red fox got bored and went home\")\n",
    "frequencies(\"apple\")"
   ]
  },
  {
   "cell_type": "markdown",
   "id": "cfd74ffc",
   "metadata": {},
   "source": [
    "___________________________________________________________________________________________\n",
    "# THE END"
   ]
  }
 ],
 "metadata": {
  "kernelspec": {
   "display_name": "Python 3",
   "language": "python",
   "name": "python3"
  },
  "language_info": {
   "codemirror_mode": {
    "name": "ipython",
    "version": 3
   },
   "file_extension": ".py",
   "mimetype": "text/x-python",
   "name": "python",
   "nbconvert_exporter": "python",
   "pygments_lexer": "ipython3",
   "version": "3.8.8"
  }
 },
 "nbformat": 4,
 "nbformat_minor": 5
}
